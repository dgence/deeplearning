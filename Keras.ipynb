{
 "cells": [
  {
   "cell_type": "code",
   "execution_count": 54,
   "metadata": {},
   "outputs": [],
   "source": [
    "import tensorflow as tf\n",
    "from keras.models import Sequential\n",
    "from keras.layers import Dense, Activation\n",
    "from keras.utils import to_categorical\n",
    "from sklearn.preprocessing import OneHotEncoder\n",
    "import numpy as np\n",
    "import csv"
   ]
  },
  {
   "cell_type": "code",
   "execution_count": 13,
   "metadata": {},
   "outputs": [],
   "source": [
    "training_set = np.genfromtxt('mnist_train.csv', skip_header=False, delimiter=',')\n",
    "test_set = np.genfromtxt('mnist_test.csv', skip_header=False, delimiter=',')"
   ]
  },
  {
   "cell_type": "code",
   "execution_count": 48,
   "metadata": {},
   "outputs": [],
   "source": [
    "# Process the data\n",
    "Y_train = training_set[:,0]\n",
    "X_train = training_set[:,1:]\n",
    "Y_test = test_set[:,0]\n",
    "X_test = test_set[:,1:]\n",
    "\n",
    "# Reshape\n",
    "X_train = X_train.T\n",
    "Y_train = Y_train.reshape(1, Y_train.shape[0])\n",
    "X_test = X_test.T\n",
    "Y_test = Y_test.reshape(1, Y_test.shape[0])\n",
    "\n",
    "# Normalize\n",
    "X_train = X_train/255.\n",
    "X_test = X_test/255.\n",
    "\n",
    "data = X_train.T\n",
    "labels = to_categorical(Y_train.T)\n",
    "val_data = X_test.T\n",
    "val_labels = to_categorical(Y_test.T)"
   ]
  },
  {
   "cell_type": "code",
   "execution_count": 69,
   "metadata": {},
   "outputs": [],
   "source": [
    "model = Sequential([\n",
    "layers.Dense(64, activation='relu', kernel_regularizer=tf.keras.regularizers.l2(0.01), input_dim=784),\n",
    "layers.Dense(64, activation='relu', kernel_regularizer=tf.keras.regularizers.l2(0.01)),\n",
    "layers.Dense(10, activation='softmax', kernel_regularizer=tf.keras.regularizers.l2(0.01))])\n",
    "\n",
    "model.compile(optimizer=tf.train.AdamOptimizer(0.001),\n",
    "              loss='categorical_crossentropy',\n",
    "              metrics=['accuracy'])\n",
    "\n"
   ]
  },
  {
   "cell_type": "code",
   "execution_count": 70,
   "metadata": {},
   "outputs": [
    {
     "name": "stdout",
     "output_type": "stream",
     "text": [
      "Train on 60000 samples, validate on 10000 samples\n",
      "Epoch 1/10\n",
      "60000/60000 [==============================] - 4s 70us/step - loss: 1.0007 - acc: 0.8875 - val_loss: 0.7893 - val_acc: 0.9112\n",
      "Epoch 2/10\n",
      "60000/60000 [==============================] - 4s 63us/step - loss: 0.8059 - acc: 0.9040 - val_loss: 0.7722 - val_acc: 0.9126\n",
      "Epoch 3/10\n",
      "60000/60000 [==============================] - 4s 70us/step - loss: 0.7898 - acc: 0.9064 - val_loss: 0.7584 - val_acc: 0.9171\n",
      "Epoch 4/10\n",
      "60000/60000 [==============================] - 3s 55us/step - loss: 0.7822 - acc: 0.9086 - val_loss: 0.7655 - val_acc: 0.9116\n",
      "Epoch 5/10\n",
      "60000/60000 [==============================] - 3s 57us/step - loss: 0.7764 - acc: 0.9091 - val_loss: 0.7620 - val_acc: 0.9127\n",
      "Epoch 6/10\n",
      "60000/60000 [==============================] - 4s 63us/step - loss: 0.7735 - acc: 0.9086 - val_loss: 0.7521 - val_acc: 0.9164\n",
      "Epoch 7/10\n",
      "60000/60000 [==============================] - 3s 57us/step - loss: 0.7703 - acc: 0.9096 - val_loss: 0.7569 - val_acc: 0.9156\n",
      "Epoch 8/10\n",
      "60000/60000 [==============================] - 4s 70us/step - loss: 0.7676 - acc: 0.9102 - val_loss: 0.7409 - val_acc: 0.9173\n",
      "Epoch 9/10\n",
      "60000/60000 [==============================] - 4s 65us/step - loss: 0.7659 - acc: 0.9100 - val_loss: 0.7483 - val_acc: 0.9141\n",
      "Epoch 10/10\n",
      "60000/60000 [==============================] - 3s 57us/step - loss: 0.7640 - acc: 0.9104 - val_loss: 0.7427 - val_acc: 0.9187\n"
     ]
    },
    {
     "data": {
      "text/plain": [
       "<keras.callbacks.History at 0x12ebd2898>"
      ]
     },
     "execution_count": 70,
     "metadata": {},
     "output_type": "execute_result"
    }
   ],
   "source": [
    "model.fit(data, labels, epochs=10, batch_size=32,\n",
    "          validation_data=(val_data, val_labels))\n"
   ]
  },
  {
   "cell_type": "code",
   "execution_count": 71,
   "metadata": {},
   "outputs": [
    {
     "name": "stdout",
     "output_type": "stream",
     "text": [
      "10000/10000 [==============================] - 0s 37us/step\n"
     ]
    },
    {
     "data": {
      "text/plain": [
       "[0.7426517932891846, 0.9187]"
      ]
     },
     "execution_count": 71,
     "metadata": {},
     "output_type": "execute_result"
    }
   ],
   "source": [
    "model.evaluate(val_data, val_labels)"
   ]
  }
 ],
 "metadata": {
  "kernelspec": {
   "display_name": "Python 3",
   "language": "python",
   "name": "python3"
  },
  "language_info": {
   "codemirror_mode": {
    "name": "ipython",
    "version": 3
   },
   "file_extension": ".py",
   "mimetype": "text/x-python",
   "name": "python",
   "nbconvert_exporter": "python",
   "pygments_lexer": "ipython3",
   "version": "3.6.6"
  }
 },
 "nbformat": 4,
 "nbformat_minor": 2
}
